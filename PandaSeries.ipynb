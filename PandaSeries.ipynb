{
  "nbformat": 4,
  "nbformat_minor": 0,
  "metadata": {
    "colab": {
      "name": "PandaSeries.ipynb",
      "provenance": [],
      "collapsed_sections": [],
      "authorship_tag": "ABX9TyOn9geve3bgaFqcFLXnekGn",
      "include_colab_link": true
    },
    "kernelspec": {
      "name": "python3",
      "display_name": "Python 3"
    },
    "language_info": {
      "name": "python"
    }
  },
  "cells": [
    {
      "cell_type": "markdown",
      "metadata": {
        "id": "view-in-github",
        "colab_type": "text"
      },
      "source": [
        "<a href=\"https://colab.research.google.com/github/jacob-siby/python_lab/blob/main/PandaSeries.ipynb\" target=\"_parent\"><img src=\"https://colab.research.google.com/assets/colab-badge.svg\" alt=\"Open In Colab\"/></a>"
      ]
    },
    {
      "cell_type": "markdown",
      "metadata": {
        "id": "aBKasZIc2KzX"
      },
      "source": [
        "#1.Write a Pandas program to add, subtract, multiple and divide two Pandas Series."
      ]
    },
    {
      "cell_type": "code",
      "metadata": {
        "colab": {
          "base_uri": "https://localhost:8080/"
        },
        "id": "7btckSX4yqkv",
        "outputId": "5c6b6f99-d8e5-4962-c4f0-72e46028b349"
      },
      "source": [
        "import pandas as pd\n",
        "ds1 = pd.Series([2, 4, 6, 8, 10])\n",
        "ds2 = pd.Series([1, 3, 5, 7, 9])\n",
        "ds = ds1 + ds2\n",
        "print(\"Add two Series:\")\n",
        "print(ds)\n",
        "print(\"Subtract two Series:\")\n",
        "ds = ds1 - ds2\n",
        "print(ds)\n",
        "print(\"Multiply two Series:\")\n",
        "ds = ds1 * ds2\n",
        "print(ds)\n",
        "print(\"Divide Series1 by Series2:\")\n",
        "ds = ds1 / ds2\n",
        "print(ds)"
      ],
      "execution_count": null,
      "outputs": [
        {
          "output_type": "stream",
          "name": "stdout",
          "text": [
            "Add two Series:\n",
            "0     3\n",
            "1     7\n",
            "2    11\n",
            "3    15\n",
            "4    19\n",
            "dtype: int64\n",
            "Subtract two Series:\n",
            "0    1\n",
            "1    1\n",
            "2    1\n",
            "3    1\n",
            "4    1\n",
            "dtype: int64\n",
            "Multiply two Series:\n",
            "0     2\n",
            "1    12\n",
            "2    30\n",
            "3    56\n",
            "4    90\n",
            "dtype: int64\n",
            "Divide Series1 by Series2:\n",
            "0    2.000000\n",
            "1    1.333333\n",
            "2    1.200000\n",
            "3    1.142857\n",
            "4    1.111111\n",
            "dtype: float64\n"
          ]
        }
      ]
    },
    {
      "cell_type": "markdown",
      "metadata": {
        "id": "Dq_XXy5s2Q1B"
      },
      "source": [
        "#2. Write a Pandas program to convert a dictionary to a Pandas series."
      ]
    },
    {
      "cell_type": "code",
      "metadata": {
        "colab": {
          "base_uri": "https://localhost:8080/"
        },
        "id": "zYwSctMT2Yo1",
        "outputId": "a0553c75-4262-4285-8f46-bd10b0a94d31"
      },
      "source": [
        "import pandas as pd\n",
        "d={'Jacob':24,'Varsha':22,'Ben':21}\n",
        "new =pd.Series(d)\n",
        "print(new)"
      ],
      "execution_count": null,
      "outputs": [
        {
          "output_type": "stream",
          "name": "stdout",
          "text": [
            "Jacob     24\n",
            "Varsha    22\n",
            "Ben       21\n",
            "dtype: int64\n"
          ]
        }
      ]
    },
    {
      "cell_type": "markdown",
      "metadata": {
        "id": "4eQn274w38ZW"
      },
      "source": [
        "#3.Write a Pandas program to convert the first column of a DataFrame as a Series"
      ]
    },
    {
      "cell_type": "code",
      "metadata": {
        "colab": {
          "base_uri": "https://localhost:8080/"
        },
        "id": "03Qv64hn4AZx",
        "outputId": "cc3fc099-8102-4b20-a476-4e63a3c1053e"
      },
      "source": [
        "import pandas as pd\n",
        "d={'Height':[78,89,80],'Weight':[89,79,81],'Mark':[98,78,80]}\n",
        "n_dat=pd.DataFrame(d)\n",
        "n_s=pd.Series(n_dat['Height'])\n",
        "print(n_s)\n",
        "type(n_s)"
      ],
      "execution_count": null,
      "outputs": [
        {
          "output_type": "stream",
          "name": "stdout",
          "text": [
            "0    78\n",
            "1    89\n",
            "2    80\n",
            "Name: Height, dtype: int64\n",
            "0    78\n",
            "1    89\n",
            "2    80\n",
            "Name: Height, dtype: int64\n"
          ]
        },
        {
          "output_type": "execute_result",
          "data": {
            "text/plain": [
              "pandas.core.series.Series"
            ]
          },
          "metadata": {},
          "execution_count": 14
        }
      ]
    },
    {
      "cell_type": "markdown",
      "metadata": {
        "id": "18PfYCJ35Gi0"
      },
      "source": [
        "#4.Write a Pandas program to convert a Series of lists to one Series."
      ]
    },
    {
      "cell_type": "code",
      "metadata": {
        "colab": {
          "base_uri": "https://localhost:8080/"
        },
        "id": "0kQHEt7j6ajW",
        "outputId": "5e1dd12b-f402-4cf6-e706-2c9b983106e7"
      },
      "source": [
        "import pandas as pd\n",
        "a=[1,1,1,1,1]\n",
        "b=[2,2,2,2,2]\n",
        "c=[3,3,3,3,3]\n",
        "n_s=pd.Series([a,b,c])\n",
        "print(n_s)\n",
        "ns1=n_s[0]\n",
        "for i in range(1,3):\n",
        "  for z in range(len(n_s[i])):\n",
        "      ns1.append(n_s[i][z])\n",
        "print(ns1)\n",
        "n_s=pd.Series(ns1)\n",
        "print(n_s)"
      ],
      "execution_count": null,
      "outputs": [
        {
          "output_type": "stream",
          "name": "stdout",
          "text": [
            "0    [1, 1, 1, 1, 1]\n",
            "1    [2, 2, 2, 2, 2]\n",
            "2    [3, 3, 3, 3, 3]\n",
            "dtype: object\n",
            "[1, 1, 1, 1, 1, 2, 2, 2, 2, 2, 3, 3, 3, 3, 3]\n",
            "0     1\n",
            "1     1\n",
            "2     1\n",
            "3     1\n",
            "4     1\n",
            "5     2\n",
            "6     2\n",
            "7     2\n",
            "8     2\n",
            "9     2\n",
            "10    3\n",
            "11    3\n",
            "12    3\n",
            "13    3\n",
            "14    3\n",
            "dtype: int64\n"
          ]
        }
      ]
    },
    {
      "cell_type": "code",
      "metadata": {
        "colab": {
          "base_uri": "https://localhost:8080/"
        },
        "id": "1emY8XHE76ix",
        "outputId": "3a857269-d847-47a6-e81b-720194036f46"
      },
      "source": [
        "\n",
        "l1 = [10,9,8,7]\n",
        "l2 = [9,83]\n",
        "l3 = [1,2,3,4,5]\n",
        "s = pd.Series([l1,l2,l3])\n",
        "print(s)\n",
        "s = s.apply(pd.Series).stack().reset_index(drop=True)\n",
        "print(s)"
      ],
      "execution_count": null,
      "outputs": [
        {
          "output_type": "stream",
          "name": "stdout",
          "text": [
            "0      [10, 9, 8, 7]\n",
            "1            [9, 83]\n",
            "2    [1, 2, 3, 4, 5]\n",
            "dtype: object\n",
            "0     10.0\n",
            "1      9.0\n",
            "2      8.0\n",
            "3      7.0\n",
            "4      9.0\n",
            "5     83.0\n",
            "6      1.0\n",
            "7      2.0\n",
            "8      3.0\n",
            "9      4.0\n",
            "10     5.0\n",
            "dtype: float64\n"
          ]
        }
      ]
    },
    {
      "cell_type": "markdown",
      "metadata": {
        "id": "xY4j4mO-_Zpk"
      },
      "source": [
        "#5.Write a Pandas program to create a subset of a given series based on value and condition"
      ]
    },
    {
      "cell_type": "code",
      "metadata": {
        "colab": {
          "base_uri": "https://localhost:8080/"
        },
        "id": "y2KEfWTV_c4k",
        "outputId": "725c0440-bce4-4367-a6d3-9d3cfda99d67"
      },
      "source": [
        "import pandas as pd\n",
        "ns=pd.Series([1,2,3,4,5,6,7,8,9,10])\n",
        "ns2=ns[ns%2==0]\n",
        "print(ns2)"
      ],
      "execution_count": null,
      "outputs": [
        {
          "output_type": "stream",
          "name": "stdout",
          "text": [
            "1     2\n",
            "3     4\n",
            "5     6\n",
            "7     8\n",
            "9    10\n",
            "dtype: int64\n"
          ]
        }
      ]
    },
    {
      "cell_type": "markdown",
      "metadata": {
        "id": "_8TLH-EFB3zC"
      },
      "source": [
        "#6.Write a Pandas program to get the items which are not common of two given series."
      ]
    },
    {
      "cell_type": "code",
      "metadata": {
        "colab": {
          "base_uri": "https://localhost:8080/"
        },
        "id": "0EB1kUMkCDzF",
        "outputId": "f574019e-1a8a-4a35-fb19-5c6db878b0c3"
      },
      "source": [
        "import pandas as pd\n",
        "import numpy as np\n",
        "ns1=pd.Series([0,1,2,3,5,9])\n",
        "ns2=pd.Series([0,6,7,8,9])\n",
        "nns1=pd.Series(np.union1d(ns1,ns2))\n",
        "nns2=pd.Series(np.intersect1d(ns1,ns2))\n",
        "result=nns1[~nns1.isin(nns2)]\n",
        "print(result)\n",
        "\n"
      ],
      "execution_count": null,
      "outputs": [
        {
          "output_type": "stream",
          "name": "stdout",
          "text": [
            "1    1\n",
            "2    2\n",
            "3    3\n",
            "4    5\n",
            "5    6\n",
            "6    7\n",
            "7    8\n",
            "dtype: int64\n"
          ]
        }
      ]
    },
    {
      "cell_type": "markdown",
      "metadata": {
        "id": "45Kck9uiGCPN"
      },
      "source": [
        "#7.Write a Pandas program to calculate the frequency counts of each unique value of a given series."
      ]
    },
    {
      "cell_type": "code",
      "metadata": {
        "colab": {
          "base_uri": "https://localhost:8080/"
        },
        "id": "D80xNZtQGL3i",
        "outputId": "f22b0d25-9504-4dbf-b455-be8a14e0f51e"
      },
      "source": [
        "import pandas as pd\n",
        "ns1=pd.Series([0,1,2,3,3,4,5,1,2,3,5,9])\n",
        "ns1.value_counts()\n"
      ],
      "execution_count": null,
      "outputs": [
        {
          "output_type": "execute_result",
          "data": {
            "text/plain": [
              "3    3\n",
              "5    2\n",
              "2    2\n",
              "1    2\n",
              "9    1\n",
              "4    1\n",
              "0    1\n",
              "dtype: int64"
            ]
          },
          "metadata": {},
          "execution_count": 44
        }
      ]
    },
    {
      "cell_type": "markdown",
      "metadata": {
        "id": "8RE5oWu7Ghvt"
      },
      "source": [
        "#8.Write a Pandas program to display most frequent value in a given series and replace everything else as 'Other' in the series."
      ]
    },
    {
      "cell_type": "code",
      "metadata": {
        "colab": {
          "base_uri": "https://localhost:8080/"
        },
        "id": "r3he3mM2Gk4z",
        "outputId": "022523af-7c7f-4256-d337-3f0b68808d71"
      },
      "source": [
        "import pandas as pd\n",
        "ns1=pd.Series([0,1,2,3,3,4,4,4,4,4,4,5,1,2,3,5,9])\n",
        "s_c=ns1.value_counts()\n",
        "ns1[~ns1.isin(s_c.index[:1])] = 'Other'\n",
        "print(ns1)\n"
      ],
      "execution_count": null,
      "outputs": [
        {
          "output_type": "stream",
          "name": "stdout",
          "text": [
            "0     Other\n",
            "1     Other\n",
            "2     Other\n",
            "3     Other\n",
            "4     Other\n",
            "5         4\n",
            "6         4\n",
            "7         4\n",
            "8         4\n",
            "9         4\n",
            "10        4\n",
            "11    Other\n",
            "12    Other\n",
            "13    Other\n",
            "14    Other\n",
            "15    Other\n",
            "16    Other\n",
            "dtype: object\n"
          ]
        }
      ]
    },
    {
      "cell_type": "markdown",
      "metadata": {
        "id": "I6LzX-3OKqdV"
      },
      "source": [
        "#9.Write a Pandas program to calculate the number of characters in each word in a given series."
      ]
    },
    {
      "cell_type": "code",
      "metadata": {
        "colab": {
          "base_uri": "https://localhost:8080/"
        },
        "id": "LtHF6cENKuTx",
        "outputId": "213af03a-2883-424a-d5e5-2b0ee6dcc049"
      },
      "source": [
        "import pandas as pd\n",
        "ns1=pd.Series(['Jacob','Varsha','Ben','Jordy'])\n",
        "for i in range(len(ns1)):\n",
        "  print(ns1[i],len(ns1[i]))\n"
      ],
      "execution_count": null,
      "outputs": [
        {
          "output_type": "stream",
          "name": "stdout",
          "text": [
            "Jacob 5\n",
            "Varsha 6\n",
            "Ben 3\n",
            "Jordy 5\n"
          ]
        }
      ]
    },
    {
      "cell_type": "markdown",
      "metadata": {
        "id": "K-xXiroczQ3v"
      },
      "source": [
        "#10.Write a Pandas program to convert a series of date strings to a timeseries."
      ]
    },
    {
      "cell_type": "code",
      "metadata": {
        "colab": {
          "base_uri": "https://localhost:8080/"
        },
        "id": "LfWkHyO7zOeI",
        "outputId": "3e889c31-abf9-40ab-ddbf-793eeee866d3"
      },
      "source": [
        "\n",
        "import pandas as pd\n",
        "\n",
        "pd.to_datetime(['2018-10-26 12:00 -0530', '2018-10-26 12:00 -0500'],utc=True)\n"
      ],
      "execution_count": 68,
      "outputs": [
        {
          "output_type": "execute_result",
          "data": {
            "text/plain": [
              "DatetimeIndex(['2018-10-26 17:30:00+00:00', '2018-10-26 17:00:00+00:00'], dtype='datetime64[ns, UTC]', freq=None)"
            ]
          },
          "metadata": {},
          "execution_count": 68
        }
      ]
    },
    {
      "cell_type": "markdown",
      "metadata": {
        "id": "rEdXx85Ozilz"
      },
      "source": [
        "#11.Write a Pandas program to filter words from a given series that contain at least two vowels."
      ]
    },
    {
      "cell_type": "code",
      "metadata": {
        "colab": {
          "base_uri": "https://localhost:8080/"
        },
        "id": "blZUM9IPzp5s",
        "outputId": "f16e97b2-a6ce-483c-d995-cb7eb9b08890"
      },
      "source": [
        "import pandas as pd\n",
        "ns1=pd.Series(['Jacob','Varsha','Ben','Jordy'])\n",
        "v='aeiouAEIOU'\n",
        "for i in range(len(ns1)):\n",
        "  c=0\n",
        "  for z in range(len(ns1[i])):\n",
        "   for t in range(len(v)):\n",
        "     if ns1[i][z]==v[t]:\n",
        "       c=c+1\n",
        "  if c>=2:\n",
        "    print(ns1[i])     \n",
        "\n"
      ],
      "execution_count": 74,
      "outputs": [
        {
          "output_type": "stream",
          "name": "stdout",
          "text": [
            "Jacob\n",
            "Varsha\n"
          ]
        }
      ]
    },
    {
      "cell_type": "markdown",
      "metadata": {
        "id": "GoUM7lkI38r2"
      },
      "source": [
        "#12.Write a Pandas program to create a TimeSeries to display all the Sundays of a given year. "
      ]
    },
    {
      "cell_type": "code",
      "metadata": {
        "colab": {
          "base_uri": "https://localhost:8080/"
        },
        "id": "GuH51m-g3-cF",
        "outputId": "507f7d65-1557-405a-dd0f-0e81a73a4e26"
      },
      "source": [
        "import pandas as pd\n",
        "result = pd.Series(pd.date_range('2020-01-01', periods = 52, freq = 'W-SUN'))\n",
        "print(\"All Sundays in 2020:\")\n",
        "print(result)"
      ],
      "execution_count": 75,
      "outputs": [
        {
          "output_type": "stream",
          "name": "stdout",
          "text": [
            "All Sundays in 2020:\n",
            "0    2020-01-05\n",
            "1    2020-01-12\n",
            "2    2020-01-19\n",
            "3    2020-01-26\n",
            "4    2020-02-02\n",
            "5    2020-02-09\n",
            "6    2020-02-16\n",
            "7    2020-02-23\n",
            "8    2020-03-01\n",
            "9    2020-03-08\n",
            "10   2020-03-15\n",
            "11   2020-03-22\n",
            "12   2020-03-29\n",
            "13   2020-04-05\n",
            "14   2020-04-12\n",
            "15   2020-04-19\n",
            "16   2020-04-26\n",
            "17   2020-05-03\n",
            "18   2020-05-10\n",
            "19   2020-05-17\n",
            "20   2020-05-24\n",
            "21   2020-05-31\n",
            "22   2020-06-07\n",
            "23   2020-06-14\n",
            "24   2020-06-21\n",
            "25   2020-06-28\n",
            "26   2020-07-05\n",
            "27   2020-07-12\n",
            "28   2020-07-19\n",
            "29   2020-07-26\n",
            "30   2020-08-02\n",
            "31   2020-08-09\n",
            "32   2020-08-16\n",
            "33   2020-08-23\n",
            "34   2020-08-30\n",
            "35   2020-09-06\n",
            "36   2020-09-13\n",
            "37   2020-09-20\n",
            "38   2020-09-27\n",
            "39   2020-10-04\n",
            "40   2020-10-11\n",
            "41   2020-10-18\n",
            "42   2020-10-25\n",
            "43   2020-11-01\n",
            "44   2020-11-08\n",
            "45   2020-11-15\n",
            "46   2020-11-22\n",
            "47   2020-11-29\n",
            "48   2020-12-06\n",
            "49   2020-12-13\n",
            "50   2020-12-20\n",
            "51   2020-12-27\n",
            "dtype: datetime64[ns]\n"
          ]
        }
      ]
    },
    {
      "cell_type": "markdown",
      "metadata": {
        "id": "EAwqTbO_5Cfg"
      },
      "source": [
        "#13.Write a Pandas program to find the index of the first occurrence of the smallest and largest value of a given series."
      ]
    },
    {
      "cell_type": "code",
      "metadata": {
        "colab": {
          "base_uri": "https://localhost:8080/"
        },
        "id": "SnzNL5jn5MD5",
        "outputId": "5155eae0-559f-4bb1-e2bd-98a8b045d9b7"
      },
      "source": [
        "import pandas as pd\n",
        "ns1=pd.Series([2,6,2,7,9,5,54,2,1,54])\n",
        "print('1st Index of the maximum is',ns1.idxmax())\n",
        "print('1st Index of the Minimum is',ns1.idxmin())\n"
      ],
      "execution_count": 79,
      "outputs": [
        {
          "output_type": "stream",
          "name": "stdout",
          "text": [
            "1st Index of the maximum is 6\n",
            "1st Index of the Minimum is 8\n"
          ]
        }
      ]
    },
    {
      "cell_type": "markdown",
      "metadata": {
        "id": "pktV8P6V6uZ5"
      },
      "source": [
        "#14.Write a Pandas program to get the first 3 rows of a given DataFrame."
      ]
    },
    {
      "cell_type": "code",
      "metadata": {
        "colab": {
          "base_uri": "https://localhost:8080/",
          "height": 142
        },
        "id": "2p9yhvWy61kB",
        "outputId": "5046bd61-f46a-4202-d7e6-d575c180b5d7"
      },
      "source": [
        "import pandas as pd\n",
        "d1 = {'Names':[\"Roy\",\"Treesa\",\"Ben\",\"Jordy\"],'Marks':[90,45,60,89]}\n",
        "df = pd.DataFrame(data=d1)\n",
        "df.head(3)"
      ],
      "execution_count": 80,
      "outputs": [
        {
          "output_type": "execute_result",
          "data": {
            "text/html": [
              "<div>\n",
              "<style scoped>\n",
              "    .dataframe tbody tr th:only-of-type {\n",
              "        vertical-align: middle;\n",
              "    }\n",
              "\n",
              "    .dataframe tbody tr th {\n",
              "        vertical-align: top;\n",
              "    }\n",
              "\n",
              "    .dataframe thead th {\n",
              "        text-align: right;\n",
              "    }\n",
              "</style>\n",
              "<table border=\"1\" class=\"dataframe\">\n",
              "  <thead>\n",
              "    <tr style=\"text-align: right;\">\n",
              "      <th></th>\n",
              "      <th>Names</th>\n",
              "      <th>Marks</th>\n",
              "    </tr>\n",
              "  </thead>\n",
              "  <tbody>\n",
              "    <tr>\n",
              "      <th>0</th>\n",
              "      <td>Roy</td>\n",
              "      <td>90</td>\n",
              "    </tr>\n",
              "    <tr>\n",
              "      <th>1</th>\n",
              "      <td>Treesa</td>\n",
              "      <td>45</td>\n",
              "    </tr>\n",
              "    <tr>\n",
              "      <th>2</th>\n",
              "      <td>Ben</td>\n",
              "      <td>60</td>\n",
              "    </tr>\n",
              "  </tbody>\n",
              "</table>\n",
              "</div>"
            ],
            "text/plain": [
              "    Names  Marks\n",
              "0     Roy     90\n",
              "1  Treesa     45\n",
              "2     Ben     60"
            ]
          },
          "metadata": {},
          "execution_count": 80
        }
      ]
    },
    {
      "cell_type": "markdown",
      "metadata": {
        "id": "8UhMIibM7MGO"
      },
      "source": [
        "#15.Write a Pandas program to select the 'name' and 'score' columns from a DataFrame."
      ]
    },
    {
      "cell_type": "code",
      "metadata": {
        "colab": {
          "base_uri": "https://localhost:8080/"
        },
        "id": "3AfgPaPn7OIi",
        "outputId": "bef45afa-a471-40b9-865e-b4212a11efc0"
      },
      "source": [
        "import pandas as pd\n",
        "d1 = {'Names':[\"Roy\",\"Treesa\",\"Ben\",\"Jordy\"],'Marks':[90,45,60,89],'Age':[22,21,24,21]}\n",
        "df = pd.DataFrame(data=d1)\n",
        "print(df[['Names','Marks']])"
      ],
      "execution_count": 86,
      "outputs": [
        {
          "output_type": "stream",
          "name": "stdout",
          "text": [
            "    Names  Marks\n",
            "0     Roy     90\n",
            "1  Treesa     45\n",
            "2     Ben     60\n",
            "3   Jordy     89\n"
          ]
        }
      ]
    },
    {
      "cell_type": "markdown",
      "metadata": {
        "id": "RaXg_-l38jhj"
      },
      "source": [
        "#16.Write a Pandas program to count the number of rows and columns of a DataFrame."
      ]
    },
    {
      "cell_type": "code",
      "metadata": {
        "colab": {
          "base_uri": "https://localhost:8080/"
        },
        "id": "dtCvFs_j8leb",
        "outputId": "c064e4e6-febc-4d4c-c152-2a9058d1a042"
      },
      "source": [
        "import pandas as pd\n",
        "d1 = {'Names':[\"Roy\",\"Treesa\",\"Ben\",\"Jordy\"],'Marks':[90,45,60,89],'Age':[22,21,24,21]}\n",
        "df = pd.DataFrame(data=d1)\n",
        "print(\"Rows:\",str(len(df.axes[0])))\n",
        "print(\"Cols:\",str(len(df.axes[1])))"
      ],
      "execution_count": 87,
      "outputs": [
        {
          "output_type": "stream",
          "name": "stdout",
          "text": [
            "Rows: 4\n",
            "Cols: 3\n"
          ]
        }
      ]
    },
    {
      "cell_type": "markdown",
      "metadata": {
        "id": "-aloL4tS9IWK"
      },
      "source": [
        "#17.Write a Pandas program to add one row in an existing DataFrame"
      ]
    },
    {
      "cell_type": "code",
      "metadata": {
        "colab": {
          "base_uri": "https://localhost:8080/",
          "height": 238
        },
        "id": "n73v5uei9S96",
        "outputId": "6dc25194-e9ec-4709-a0d7-f73f11c93078"
      },
      "source": [
        "import pandas as pd\n",
        "d1 = {'Names':[\"Roy\",\"Treesa\",\"Ben\",\"Jordy\"],'Marks':[90,45,60,89],'Age':[22,21,24,21]}\n",
        "df = pd.DataFrame(data=d1)\n",
        "print(\"Rows:\",str(len(df.axes[0])))\n",
        "print(\"Cols:\",str(len(df.axes[1])))\n",
        "df2 = {'Names': 'Vikram', 'Marks': 89, 'Age': 23}\n",
        "df = df.append(df2, ignore_index = True)\n",
        "df"
      ],
      "execution_count": 90,
      "outputs": [
        {
          "output_type": "stream",
          "name": "stdout",
          "text": [
            "Rows: 4\n",
            "Cols: 3\n"
          ]
        },
        {
          "output_type": "execute_result",
          "data": {
            "text/html": [
              "<div>\n",
              "<style scoped>\n",
              "    .dataframe tbody tr th:only-of-type {\n",
              "        vertical-align: middle;\n",
              "    }\n",
              "\n",
              "    .dataframe tbody tr th {\n",
              "        vertical-align: top;\n",
              "    }\n",
              "\n",
              "    .dataframe thead th {\n",
              "        text-align: right;\n",
              "    }\n",
              "</style>\n",
              "<table border=\"1\" class=\"dataframe\">\n",
              "  <thead>\n",
              "    <tr style=\"text-align: right;\">\n",
              "      <th></th>\n",
              "      <th>Names</th>\n",
              "      <th>Marks</th>\n",
              "      <th>Age</th>\n",
              "    </tr>\n",
              "  </thead>\n",
              "  <tbody>\n",
              "    <tr>\n",
              "      <th>0</th>\n",
              "      <td>Roy</td>\n",
              "      <td>90</td>\n",
              "      <td>22</td>\n",
              "    </tr>\n",
              "    <tr>\n",
              "      <th>1</th>\n",
              "      <td>Treesa</td>\n",
              "      <td>45</td>\n",
              "      <td>21</td>\n",
              "    </tr>\n",
              "    <tr>\n",
              "      <th>2</th>\n",
              "      <td>Ben</td>\n",
              "      <td>60</td>\n",
              "      <td>24</td>\n",
              "    </tr>\n",
              "    <tr>\n",
              "      <th>3</th>\n",
              "      <td>Jordy</td>\n",
              "      <td>89</td>\n",
              "      <td>21</td>\n",
              "    </tr>\n",
              "    <tr>\n",
              "      <th>4</th>\n",
              "      <td>Vikram</td>\n",
              "      <td>89</td>\n",
              "      <td>23</td>\n",
              "    </tr>\n",
              "  </tbody>\n",
              "</table>\n",
              "</div>"
            ],
            "text/plain": [
              "    Names  Marks  Age\n",
              "0     Roy     90   22\n",
              "1  Treesa     45   21\n",
              "2     Ben     60   24\n",
              "3   Jordy     89   21\n",
              "4  Vikram     89   23"
            ]
          },
          "metadata": {},
          "execution_count": 90
        }
      ]
    },
    {
      "cell_type": "markdown",
      "metadata": {
        "id": "STWEVed0-N4j"
      },
      "source": [
        "#18.Write a Pandas program to write a DataFrame to CSV file using tab separator."
      ]
    },
    {
      "cell_type": "code",
      "metadata": {
        "colab": {
          "base_uri": "https://localhost:8080/"
        },
        "id": "2_s8oMzD-Q95",
        "outputId": "62421cbc-c4ab-4f23-9aef-309955a5c32e"
      },
      "source": [
        "import pandas as pd\n",
        "d1 = {'Names':[\"Roy\",\"Treesa\",\"Ben\",\"Jordy\"],'Marks':[90,45,60,89],'Age':[22,21,24,21]}\n",
        "df = pd.DataFrame(data=d1)\n",
        "df.to_csv('new_file.csv', sep='\\t', index=False)\n",
        "new_df = pd.read_csv('new_file.csv')\n",
        "print(new_df)"
      ],
      "execution_count": 91,
      "outputs": [
        {
          "output_type": "stream",
          "name": "stdout",
          "text": [
            "  Names\\tMarks\\tAge\n",
            "0       Roy\\t90\\t22\n",
            "1    Treesa\\t45\\t21\n",
            "2       Ben\\t60\\t24\n",
            "3     Jordy\\t89\\t21\n"
          ]
        }
      ]
    },
    {
      "cell_type": "markdown",
      "metadata": {
        "id": "HzsEx_7u-29m"
      },
      "source": [
        "#19.Write a Pandas program to replace all the NaN values with Zeros in a column of a dataframe.Write a Pandas program to drop a list of rows from a specified DataFrame."
      ]
    },
    {
      "cell_type": "code",
      "metadata": {
        "colab": {
          "base_uri": "https://localhost:8080/"
        },
        "id": "H9fUj2UD_aRR",
        "outputId": "167c0a08-1f91-4c56-d3b3-9ec2c90eb987"
      },
      "source": [
        "import pandas as pd\n",
        "import numpy as np\n",
        "df = pd.DataFrame([[np.nan, 2, 3, np.nan],\n",
        "                   [3, 4, np.nan, 1],\n",
        "                   [1, np.nan, np.nan, 5],\n",
        "                   [np.nan, 3, np.nan, 4]])\n",
        "df.fillna(value=0,inplace=True)\n",
        "print(df)\n",
        "l1=[1,2]\n",
        "df = df.drop(df.index[l1])\n",
        "print('After dropping')\n",
        "print(df)"
      ],
      "execution_count": 96,
      "outputs": [
        {
          "output_type": "stream",
          "name": "stdout",
          "text": [
            "     0    1    2    3\n",
            "0  0.0  2.0  3.0  0.0\n",
            "1  3.0  4.0  0.0  1.0\n",
            "2  1.0  0.0  0.0  5.0\n",
            "3  0.0  3.0  0.0  4.0\n",
            "After dropping\n",
            "     0    1    2    3\n",
            "0  0.0  2.0  3.0  0.0\n",
            "3  0.0  3.0  0.0  4.0\n"
          ]
        }
      ]
    },
    {
      "cell_type": "markdown",
      "metadata": {
        "id": "K21u2NPR_7H_"
      },
      "source": [
        "#20.Write a Pandas program to shuffle a given DataFrame rows."
      ]
    },
    {
      "cell_type": "code",
      "metadata": {
        "colab": {
          "base_uri": "https://localhost:8080/"
        },
        "id": "8Tw5Jk0mAWfy",
        "outputId": "082f114b-774b-4748-885e-cec619d6b466"
      },
      "source": [
        "import pandas as pd\n",
        "ODI_runs = {'name': ['Tendulkar', 'Sangakkara', 'Ponting',\n",
        "                      'Jayasurya', 'Jayawardene', 'Kohli',\n",
        "                      'Haq', 'Kallis', 'Ganguly', 'Dravid'],\n",
        "            'runs': [18426, 14234, 13704, 13430, 12650,\n",
        "                     11867, 11739, 11579, 11363, 10889]}\n",
        "df = pd.DataFrame(ODI_runs)\n",
        "print(\"Original DataFrame :\")\n",
        "print(df)\n",
        "df = df.sample(frac = 1)\n",
        "print(\"\\nShuffled DataFrame:\")\n",
        "print(df)"
      ],
      "execution_count": 101,
      "outputs": [
        {
          "output_type": "stream",
          "name": "stdout",
          "text": [
            "Original DataFrame :\n",
            "          name   runs\n",
            "0    Tendulkar  18426\n",
            "1   Sangakkara  14234\n",
            "2      Ponting  13704\n",
            "3    Jayasurya  13430\n",
            "4  Jayawardene  12650\n",
            "5        Kohli  11867\n",
            "6          Haq  11739\n",
            "7       Kallis  11579\n",
            "8      Ganguly  11363\n",
            "9       Dravid  10889\n",
            "\n",
            "Shuffled DataFrame:\n",
            "          name   runs\n",
            "0    Tendulkar  18426\n",
            "7       Kallis  11579\n",
            "4  Jayawardene  12650\n",
            "8      Ganguly  11363\n",
            "9       Dravid  10889\n",
            "6          Haq  11739\n",
            "1   Sangakkara  14234\n",
            "3    Jayasurya  13430\n",
            "2      Ponting  13704\n",
            "5        Kohli  11867\n"
          ]
        }
      ]
    },
    {
      "cell_type": "markdown",
      "metadata": {
        "id": "uJt-rwqyCLry"
      },
      "source": [
        "#21.Write a Pandas program to find the row for where the value of a given column is maximum."
      ]
    },
    {
      "cell_type": "code",
      "metadata": {
        "colab": {
          "base_uri": "https://localhost:8080/"
        },
        "id": "Qvp3AvFuCoTm",
        "outputId": "a5095f85-bb96-4283-9bb9-e11af373155e"
      },
      "source": [
        "import pandas as pd\n",
        "d1 = {'Names':[\"Roy\",\"Treesa\",\"Ben\",\"Jordy\"],'Marks':[90,45,60,89],'Age':[22,21,24,21]}\n",
        "df = pd.DataFrame(data=d1)\n",
        "print(df.loc[df['Marks'].argmax()])\n",
        "\n"
      ],
      "execution_count": 111,
      "outputs": [
        {
          "output_type": "stream",
          "name": "stdout",
          "text": [
            "Names    Roy\n",
            "Marks     90\n",
            "Age       22\n",
            "Name: 0, dtype: object\n"
          ]
        }
      ]
    },
    {
      "cell_type": "markdown",
      "metadata": {
        "id": "49KKyx7JESoq"
      },
      "source": [
        "#22.Write a Pandas program to check whether a given column is present in a DataFrame or not."
      ]
    },
    {
      "cell_type": "code",
      "metadata": {
        "colab": {
          "base_uri": "https://localhost:8080/"
        },
        "id": "J3gYZt_0EWt1",
        "outputId": "943234a0-5d90-4903-871b-e7a19cc81a2b"
      },
      "source": [
        "import pandas as pd\n",
        "d1 = {'Names':[\"Roy\",\"Treesa\",\"Ben\",\"Jordy\"],'Marks':[90,45,60,89],'Age':[22,21,24,21]}\n",
        "df = pd.DataFrame(data=d1)\n",
        "if 'Age' in df.columns:\n",
        "  print(\"Age is present in DataFrame.\")\n"
      ],
      "execution_count": 112,
      "outputs": [
        {
          "output_type": "stream",
          "name": "stdout",
          "text": [
            "Age is present in DataFrame.\n"
          ]
        }
      ]
    },
    {
      "cell_type": "markdown",
      "metadata": {
        "id": "Y_Y8bAfRE99w"
      },
      "source": [
        "#23.Write a Pandas program to append data to an empty DataFrame."
      ]
    },
    {
      "cell_type": "code",
      "metadata": {
        "colab": {
          "base_uri": "https://localhost:8080/"
        },
        "id": "mYWuRrTTFAQH",
        "outputId": "10065e2b-2492-447a-f26f-251311c4628f"
      },
      "source": [
        "import pandas as pd\n",
        "df = pd.DataFrame()\n",
        "d1 = {'Names':[\"Roy\",\"Treesa\",\"Ben\",\"Jordy\"],'Marks':[90,45,60,89],'Age':[22,21,24,21]}\n",
        "df1 = pd.DataFrame(data=d1)\n",
        "df = df.append(df1)\n",
        "print(df)"
      ],
      "execution_count": 115,
      "outputs": [
        {
          "output_type": "stream",
          "name": "stdout",
          "text": [
            "    Names  Marks  Age\n",
            "0     Roy     90   22\n",
            "1  Treesa     45   21\n",
            "2     Ben     60   24\n",
            "3   Jordy     89   21\n"
          ]
        }
      ]
    },
    {
      "cell_type": "markdown",
      "metadata": {
        "id": "FL_Z0iTUGOTR"
      },
      "source": [
        "#24.Write a Pandas program to add a prefix or suffix to all columns of a given DataFrame. "
      ]
    },
    {
      "cell_type": "code",
      "metadata": {
        "colab": {
          "base_uri": "https://localhost:8080/"
        },
        "id": "PgC4DATwGRhJ",
        "outputId": "ab0d1014-8f5f-4dae-e00e-48db713248df"
      },
      "source": [
        "import pandas as pd\n",
        "d1 = {'Names':[\"Roy\",\"Treesa\",\"Ben\",\"Jordy\"],'Marks':[90,45,60,89],'Age':[22,21,24,21]}\n",
        "df = pd.DataFrame(data=d1)\n",
        "print(\"Original DataFrame\")\n",
        "print(df)\n",
        "print(\"\\nAdd prefix:\")\n",
        "print(df.add_prefix(\"Stu_\"))\n",
        "print(\"\\nAdd suffix:\")\n",
        "print(df.add_suffix(\"_Stu\"))"
      ],
      "execution_count": 117,
      "outputs": [
        {
          "output_type": "stream",
          "name": "stdout",
          "text": [
            "Original DataFrame\n",
            "    Names  Marks  Age\n",
            "0     Roy     90   22\n",
            "1  Treesa     45   21\n",
            "2     Ben     60   24\n",
            "3   Jordy     89   21\n",
            "\n",
            "Add prefix:\n",
            "  Stu_Names  Stu_Marks  Stu_Age\n",
            "0       Roy         90       22\n",
            "1    Treesa         45       21\n",
            "2       Ben         60       24\n",
            "3     Jordy         89       21\n",
            "\n",
            "Add suffix:\n",
            "  Names_Stu  Marks_Stu  Age_Stu\n",
            "0       Roy         90       22\n",
            "1    Treesa         45       21\n",
            "2       Ben         60       24\n",
            "3     Jordy         89       21\n"
          ]
        }
      ]
    },
    {
      "cell_type": "markdown",
      "metadata": {
        "id": "hOpgFKPyGnn4"
      },
      "source": [
        "#25.Write a Pandas program to rename all columns with the same pattern of a given DataFrame."
      ]
    },
    {
      "cell_type": "code",
      "metadata": {
        "colab": {
          "base_uri": "https://localhost:8080/"
        },
        "id": "ySyo589mGwTL",
        "outputId": "4bc6a2e9-8d40-4ac3-e2af-e06178ec55f0"
      },
      "source": [
        "import pandas as pd\n",
        "d1 = {'Names':[\"Roy\",\"Treesa\",\"Ben\",\"Jordy\"],'Student Mark':[90,45,60,89],'Age':[22,21,24,21]}\n",
        "df = pd.DataFrame(data=d1)\n",
        "print(df.head())\n",
        "df.columns = df.columns.str.lower().str.rstrip().str.replace(' ','_')\n",
        "print(\"\\nRemove trailing (at the end) whitesapce and convert to lowercase of the columns name\")\n",
        "print(df.head())\n",
        "\n"
      ],
      "execution_count": 121,
      "outputs": [
        {
          "output_type": "stream",
          "name": "stdout",
          "text": [
            "    Names  Student Mark  Age\n",
            "0     Roy            90   22\n",
            "1  Treesa            45   21\n",
            "2     Ben            60   24\n",
            "3   Jordy            89   21\n",
            "\n",
            "Remove trailing (at the end) whitesapce and convert to lowercase of the columns name\n",
            "    names  student_mark  age\n",
            "0     Roy            90   22\n",
            "1  Treesa            45   21\n",
            "2     Ben            60   24\n",
            "3   Jordy            89   21\n"
          ]
        }
      ]
    },
    {
      "cell_type": "markdown",
      "metadata": {
        "id": "2SbXnT3BIZuN"
      },
      "source": [
        "#26.Write a Pandas program to convert continuous values of a column in a given DataFrame to categorical. \n",
        "Input:\n",
        "{ 'Name': ['Alberto Franco','Gino Mcneill','Ryan Parkes', 'Eesha Hinton', 'Syed Wharton'],\n",
        "'Age': [18, 22, 40, 50, 80, 5] }"
      ]
    },
    {
      "cell_type": "code",
      "metadata": {
        "colab": {
          "base_uri": "https://localhost:8080/"
        },
        "id": "r8QgXa6DIgkO",
        "outputId": "bcdbeba6-c2e4-4ce6-e241-6f1225106257"
      },
      "source": [
        "import pandas as pd\n",
        "df = pd.DataFrame({\n",
        "    'name': ['Alberto Franco','Gino Mcneill','Ryan Parkes', 'Eesha Hinton', 'Syed Wharton', 'Kierra Gentry'],\n",
        "      'age': [18, 22, 85, 50, 80, 5]\n",
        "})\n",
        "print(\"Original DataFrame:\")\n",
        "print(df)\n",
        "print('\\nAge group:')\n",
        "df[\"age_groups\"] = pd.cut(df[\"age\"], bins = [0, 18, 65, 99], labels = [\"kids\", \"adult\", \"elderly\"])\n",
        "print(df[\"age_groups\"])"
      ],
      "execution_count": 122,
      "outputs": [
        {
          "output_type": "stream",
          "name": "stdout",
          "text": [
            "Original DataFrame:\n",
            "             name  age\n",
            "0  Alberto Franco   18\n",
            "1    Gino Mcneill   22\n",
            "2     Ryan Parkes   85\n",
            "3    Eesha Hinton   50\n",
            "4    Syed Wharton   80\n",
            "5   Kierra Gentry    5\n",
            "\n",
            "Age group:\n",
            "0       kids\n",
            "1      adult\n",
            "2    elderly\n",
            "3      adult\n",
            "4    elderly\n",
            "5       kids\n",
            "Name: age_groups, dtype: category\n",
            "Categories (3, object): ['kids' < 'adult' < 'elderly']\n"
          ]
        }
      ]
    },
    {
      "cell_type": "markdown",
      "metadata": {
        "id": "XfFVlprRItP2"
      },
      "source": [
        "#27.Write a Pandas program to create DataFrames that contains random values, contains missing values, contains datetime values and contains mixed values."
      ]
    },
    {
      "cell_type": "code",
      "metadata": {
        "colab": {
          "base_uri": "https://localhost:8080/"
        },
        "id": "lYiWuadwJ0Ju",
        "outputId": "b9ccf562-7a44-46aa-874c-c70e013c7a14"
      },
      "source": [
        "import pandas as pd\n",
        "print(\"DataFrame: Contains random values:\")\n",
        "df1 = pd.util.testing.makeDataFrame() # contains random values\n",
        "print(df1)\n",
        "print(\"\\nDataFrame: Contains missing values:\")\n",
        "df2 = pd.util.testing.makeMissingDataframe() # contains missing values\n",
        "print(df2)\n",
        "print(\"\\nDataFrame: Contains datetime values:\")\n",
        "df3 = pd.util.testing.makeTimeDataFrame() # contains datetime values\n",
        "print(df3)\n",
        "print(\"\\nDataFrame: Contains mixed values:\")\n",
        "df4 = pd.util.testing.makeMixedDataFrame() # contains mixed values\n",
        "print(df4)"
      ],
      "execution_count": 123,
      "outputs": [
        {
          "output_type": "stream",
          "name": "stdout",
          "text": [
            "DataFrame: Contains random values:\n",
            "                   A         B         C         D\n",
            "tReZDSbuK6  0.643885 -0.937988 -0.104933 -2.788647\n",
            "pbClaYdZNw  1.374566 -1.103359  0.725064 -0.336734\n",
            "MPJ9cqbKP2 -0.206672  0.892720 -0.241888 -0.341666\n",
            "BY2zcWv2YX  1.264149  0.522255  0.151296  0.715088\n",
            "IQl0f6Xuob -0.796751  0.764886  0.373501  0.280247\n",
            "HFr8HhQ5iT  1.315168  1.732397  1.895020 -0.697715\n",
            "1j3t0yA86X  0.282528 -0.814982 -1.425239 -0.321227\n",
            "2KfHvLIUOh -0.789560 -0.577798  0.542555  0.240171\n",
            "BPXRGamIhb -0.886273 -1.006601 -1.564734 -1.148707\n",
            "zrqI4BgRAy  0.889916 -0.420012 -0.740229  0.963425\n",
            "pO6RodGkZF -0.314201  1.226947 -0.505984 -0.744974\n",
            "UfRHEVGXM0  0.223528 -0.797778 -0.761686 -0.057072\n",
            "2UxDgS0tAK  0.656296  1.484714  1.753123 -0.111588\n",
            "55YkpwjOV5  1.494834  0.963668 -0.414000  0.544367\n",
            "bPo85CXqQy -1.242600  0.198342  0.450777 -0.632134\n",
            "KFVyHwHEHP -0.279220  1.150519 -0.896795 -1.531236\n",
            "VKIHcIzbAw -1.167578 -1.349640  2.180020  0.219413\n",
            "HTrN03oKS0  1.598753  0.216017 -0.573801  0.650963\n",
            "XJDnQKOX8c -1.418888 -1.503221  1.949184  1.744330\n",
            "imWYaFIocZ -1.312189  1.296955  0.614397 -0.345645\n",
            "MRdz7AOMdZ -1.227786  0.491392  1.371699  0.727130\n",
            "e5ddxbTCcp  0.807314  0.417913 -0.938163  1.383684\n",
            "Gd75idxd27 -0.792272  0.788539  0.840283 -0.562990\n",
            "sotOcgL815 -0.458667  0.765284  2.361930  0.159170\n",
            "pOO0AZVS18 -0.127795  0.356118 -0.111063 -0.831344\n",
            "uWPr7HSOkn -0.184627 -0.806461 -0.519681 -0.871709\n",
            "BQ3DZREZIo -0.101930  0.296759 -0.312268  2.100976\n",
            "OUFzaefOtb  0.229024 -0.185995 -0.110497  1.116753\n",
            "mDTzl0ozMI -0.966337  0.326609  0.832175  0.373444\n",
            "37j3ujm1qS -0.394678 -0.041463  2.349588  0.024856\n",
            "\n",
            "DataFrame: Contains missing values:\n",
            "                   A         B         C         D\n",
            "wbBetHjQCJ       NaN -2.065135  0.232959  1.073092\n",
            "aaAUju09zb  1.109274 -1.028228 -1.817120  0.077621\n",
            "nRgh7Q86Yd       NaN  0.256307  0.282721 -1.160519\n",
            "x3f8AVpY1l  0.715309 -0.832164 -0.234392  0.430353\n",
            "ne8nZKf2S3  1.513959       NaN -0.286243  0.378743\n",
            "uZxQ8PaUs4 -0.109697  0.169869  0.191932 -0.547905\n",
            "rxPxkGbzCh -0.557576       NaN       NaN  0.447268\n",
            "a8icQgbCPL -0.935888  1.494869  2.387207  0.225389\n",
            "GRsMjgzoow  1.490454  0.427074  0.094095  0.173670\n",
            "4nvTheC4Rd -0.728144 -0.858929  1.540253  0.133507\n",
            "C9qfQiiIyr -0.481343 -0.832511  0.700877 -0.470663\n",
            "2JhPluBoHl -0.150916  0.945603       NaN -0.430439\n",
            "5Cmzu5jpfC -0.698346 -0.546372 -0.481525 -0.217547\n",
            "uUjSQ86rMP  0.861620 -1.094290  0.436276  0.304901\n",
            "aDUV4EScCf -0.983611 -1.370727       NaN  0.062460\n",
            "IxDj8hIwrw  0.211823 -1.225178 -0.734867 -0.963127\n",
            "mgk838qbyZ  1.486598  2.459509 -1.191332 -0.070456\n",
            "2i5YvpUwwy  1.782878  0.327652 -0.169131 -0.510073\n",
            "izSltJy9is -0.115078 -2.003935  0.793234 -1.352779\n",
            "rFT8hO71h6  0.859906 -0.053818  1.660392  1.148944\n",
            "2j5nF8pVjN -1.675712  0.124568  1.454525  2.176817\n",
            "bVHokWP5nT -0.453571 -0.171768  0.097541 -1.124393\n",
            "8ylGiwPVjz -0.379425 -0.625502       NaN -1.209630\n",
            "RC1Vz5Ly2L  0.364164 -0.395232  1.867819  0.530126\n",
            "8COQsd9Rtg  1.977510  1.233025 -0.122353  2.194405\n",
            "ZdVi0t4P67       NaN  1.071188 -0.630077 -0.792955\n",
            "bEce30secd       NaN -1.427142 -1.269387  0.347942\n",
            "6r9AzzSBjw  0.000701  0.278669  1.158476       NaN\n",
            "ziKCK1ZoQK -0.493500 -1.688700       NaN -1.087308\n",
            "vjsKlBkx09  0.640440 -0.180891 -0.683766 -1.073861\n",
            "\n",
            "DataFrame: Contains datetime values:\n",
            "                   A         B         C         D\n",
            "2000-01-03 -0.168404  0.138583 -1.868594  1.224842\n",
            "2000-01-04  0.960993  0.055241 -1.843814 -0.521740\n",
            "2000-01-05  0.619702  0.219123 -0.547321 -0.642029\n",
            "2000-01-06  0.249214  1.885230 -0.739146 -0.874150\n",
            "2000-01-07  0.159988 -0.300579 -0.301215  1.119009\n",
            "2000-01-10 -2.287916 -0.557075 -0.701339  1.775102\n",
            "2000-01-11 -0.423581  0.644922  0.950882  0.380509\n",
            "2000-01-12  0.352380 -1.637320 -1.274784 -0.407844\n",
            "2000-01-13  1.439919  1.509433  0.581253 -0.515291\n",
            "2000-01-14 -1.275730 -0.188908  0.109119  2.562674\n",
            "2000-01-17 -0.383287  2.516209  0.485785  1.105757\n",
            "2000-01-18  0.776010 -0.018694  0.791219 -1.682482\n",
            "2000-01-19  0.413070 -0.126493 -1.218562  0.855054\n",
            "2000-01-20  1.670066  0.382688  1.525353 -0.038230\n",
            "2000-01-21  0.490708 -1.547150 -0.194504  1.083078\n",
            "2000-01-24  0.505224  0.199606  0.334928  1.149462\n",
            "2000-01-25 -1.229888  0.726663 -0.752312 -0.007215\n",
            "2000-01-26 -2.079212  0.774271  0.979789 -0.610814\n",
            "2000-01-27 -0.643218  0.155744  0.837222 -1.204230\n",
            "2000-01-28 -1.584542 -0.716822 -1.553782 -0.161640\n",
            "2000-01-31  0.606475 -0.771353  0.185675 -1.291972\n",
            "2000-02-01  0.008564  1.189658 -0.550708 -2.187700\n",
            "2000-02-02 -1.203146 -1.111042  0.565452 -1.074881\n",
            "2000-02-03 -1.347690 -0.564234  0.931812  1.377035\n",
            "2000-02-04  0.900592  0.100096 -0.009995 -1.785962\n",
            "2000-02-07  0.219304  1.046408 -0.354496 -0.920885\n",
            "2000-02-08 -0.375328  0.601367 -0.414591 -0.573753\n",
            "2000-02-09 -0.653065 -0.428303 -2.086801 -0.315492\n",
            "2000-02-10 -0.004064 -2.659265  1.395976  0.170566\n",
            "2000-02-11  0.475902  1.229068 -0.024658 -1.393615\n",
            "\n",
            "DataFrame: Contains mixed values:\n",
            "     A    B     C          D\n",
            "0  0.0  0.0  foo1 2009-01-01\n",
            "1  1.0  1.0  foo2 2009-01-02\n",
            "2  2.0  0.0  foo3 2009-01-05\n",
            "3  3.0  1.0  foo4 2009-01-06\n",
            "4  4.0  0.0  foo5 2009-01-07\n"
          ]
        },
        {
          "output_type": "stream",
          "name": "stderr",
          "text": [
            "/usr/local/lib/python3.7/dist-packages/pandas/util/__init__.py:12: FutureWarning: pandas.util.testing is deprecated. Use the functions in the public API at pandas.testing instead.\n",
            "  import pandas.util.testing\n"
          ]
        }
      ]
    },
    {
      "cell_type": "markdown",
      "metadata": {
        "id": "vMsAOfP2J3vj"
      },
      "source": [
        "#28.Write a Pandas program to join the two given dataframes along rows and assign all data.\n",
        "student_data1:\n",
        "  student_id              name  marks\n",
        "0         S1  Danniella Fenton    200\n",
        "1         S2      Ryder Storey    210\n",
        "2         S3      Bryce Jensen    190\n",
        "3         S4         Ed Bernal    222\n",
        "4         S5       Kwame Morin    199\n",
        "student_data2:\n",
        "  student_id              name  marks\n",
        "0         S4  Scarlette Fisher    201\n",
        "1         S5  Carla Williamson    200\n",
        "2         S6       Dante Morse    198\n",
        "3         S7    Kaiser William    219\n",
        "4         S8   Madeeha Preston    201"
      ]
    },
    {
      "cell_type": "code",
      "metadata": {
        "colab": {
          "base_uri": "https://localhost:8080/"
        },
        "id": "7aRwP4LIKUhx",
        "outputId": "9972bae1-0c6e-4eed-d6eb-9371d69ef740"
      },
      "source": [
        "import pandas as pd\n",
        "df1 = pd.DataFrame({\n",
        "        'student_id': ['S1', 'S2', 'S3', 'S4', 'S5'],\n",
        "         'name': ['Danniella Fenton', 'Ryder Storey', 'Bryce Jensen', 'Ed Bernal', 'Kwame Morin'], \n",
        "        'marks': [200, 210, 190, 222, 199]})\n",
        "\n",
        "df2 = pd.DataFrame({\n",
        "        'student_id': ['S4', 'S5', 'S6', 'S7', 'S8'],\n",
        "        'name': ['Scarlette Fisher', 'Carla Williamson', 'Dante Morse', 'Kaiser William', 'Madeeha Preston'], \n",
        "        'marks': [201, 200, 198, 219, 201]})\n",
        "df = pd.concat([df1, df2])\n",
        "print(df)\n"
      ],
      "execution_count": 125,
      "outputs": [
        {
          "output_type": "stream",
          "name": "stdout",
          "text": [
            "  student_id              name  marks\n",
            "0         S1  Danniella Fenton    200\n",
            "1         S2      Ryder Storey    210\n",
            "2         S3      Bryce Jensen    190\n",
            "3         S4         Ed Bernal    222\n",
            "4         S5       Kwame Morin    199\n",
            "0         S4  Scarlette Fisher    201\n",
            "1         S5  Carla Williamson    200\n",
            "2         S6       Dante Morse    198\n",
            "3         S7    Kaiser William    219\n",
            "4         S8   Madeeha Preston    201\n"
          ]
        }
      ]
    }
  ]
}